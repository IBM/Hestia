{
 "cells": [
  {
   "cell_type": "markdown",
   "metadata": {},
   "source": [
    "# 0. Installation of necessary packages"
   ]
  },
  {
   "cell_type": "code",
   "execution_count": 1,
   "metadata": {},
   "outputs": [],
   "source": [
    "# !pip install hestia-good PyTDC rdkit transformers"
   ]
  },
  {
   "cell_type": "markdown",
   "metadata": {},
   "source": [
    "# 1. Data preparation\n",
    "\n",
    "In this tutorial, we will use the Ames' mutageneicity dataset from the TDC library"
   ]
  },
  {
   "cell_type": "code",
   "execution_count": 2,
   "metadata": {},
   "outputs": [
    {
     "name": "stderr",
     "output_type": "stream",
     "text": [
      "Found local copy...\n",
      "Loading...\n",
      "Done!\n"
     ]
    },
    {
     "data": {
      "text/html": [
       "<div>\n",
       "<style scoped>\n",
       "    .dataframe tbody tr th:only-of-type {\n",
       "        vertical-align: middle;\n",
       "    }\n",
       "\n",
       "    .dataframe tbody tr th {\n",
       "        vertical-align: top;\n",
       "    }\n",
       "\n",
       "    .dataframe thead th {\n",
       "        text-align: right;\n",
       "    }\n",
       "</style>\n",
       "<table border=\"1\" class=\"dataframe\">\n",
       "  <thead>\n",
       "    <tr style=\"text-align: right;\">\n",
       "      <th></th>\n",
       "      <th>Drug_ID</th>\n",
       "      <th>Drug</th>\n",
       "      <th>Y</th>\n",
       "    </tr>\n",
       "  </thead>\n",
       "  <tbody>\n",
       "    <tr>\n",
       "      <th>0</th>\n",
       "      <td>187.0</td>\n",
       "      <td>CC(=O)OCC[N+](C)(C)C</td>\n",
       "      <td>0.0</td>\n",
       "    </tr>\n",
       "    <tr>\n",
       "      <th>1</th>\n",
       "      <td>247.0</td>\n",
       "      <td>C[N+](C)(C)CC(=O)[O-]</td>\n",
       "      <td>0.0</td>\n",
       "    </tr>\n",
       "    <tr>\n",
       "      <th>2</th>\n",
       "      <td>298.0</td>\n",
       "      <td>O=C(NC(CO)C(O)c1ccc([N+](=O)[O-])cc1)C(Cl)Cl</td>\n",
       "      <td>0.0</td>\n",
       "    </tr>\n",
       "    <tr>\n",
       "      <th>3</th>\n",
       "      <td>338.0</td>\n",
       "      <td>O=C(O)c1ccccc1O</td>\n",
       "      <td>0.0</td>\n",
       "    </tr>\n",
       "    <tr>\n",
       "      <th>4</th>\n",
       "      <td>444.0</td>\n",
       "      <td>CC(NC(C)(C)C)C(=O)c1cccc(Cl)c1</td>\n",
       "      <td>0.0</td>\n",
       "    </tr>\n",
       "  </tbody>\n",
       "</table>\n",
       "</div>"
      ],
      "text/plain": [
       "   Drug_ID                                          Drug    Y\n",
       "0    187.0                          CC(=O)OCC[N+](C)(C)C  0.0\n",
       "1    247.0                         C[N+](C)(C)CC(=O)[O-]  0.0\n",
       "2    298.0  O=C(NC(CO)C(O)c1ccc([N+](=O)[O-])cc1)C(Cl)Cl  0.0\n",
       "3    338.0                               O=C(O)c1ccccc1O  0.0\n",
       "4    444.0                CC(NC(C)(C)C)C(=O)c1cccc(Cl)c1  0.0"
      ]
     },
     "execution_count": 2,
     "metadata": {},
     "output_type": "execute_result"
    }
   ],
   "source": [
    "import pandas as pd\n",
    "from tdc.single_pred import Tox\n",
    "\n",
    "data = Tox('dili')\n",
    "df = pd.read_csv('data/dili.tab', sep='\\t')\n",
    "df.head()"
   ]
  },
  {
   "cell_type": "markdown",
   "metadata": {},
   "source": [
    "# 2. Initialisating HestiaGenerator\n",
    "\n",
    "In this tutorial, we create two sets of partitions:\n",
    "1. The conventional `ECFP-4` fingerprint with 2,048 bits and Tanimoto index (faster, less resolution).\n",
    "2. A new fingerprint type called `MAPc`, also with radius 2 and 2,048 bits and Jaccard index (slower, more resolution)."
   ]
  },
  {
   "cell_type": "code",
   "execution_count": 3,
   "metadata": {},
   "outputs": [
    {
     "name": "stdout",
     "output_type": "stream",
     "text": [
      "Initialising Hestia Dataset Generator\n",
      "Number of items in data: 475\n",
      "Calculating similarity...\n",
      "Calculating molecular similarities using ecfp with 2,048 bits, radius 2 and tanimoto index...\n"
     ]
    },
    {
     "name": "stderr",
     "output_type": "stream",
     "text": [
      "Query FPs: 100%|██████████| 475/475 [00:00<00:00, 950kit/s]\n",
      "Similarity calculation: 100%|██████████| 475/475 [00:00<00:00, 4.56kit/s]\n"
     ]
    },
    {
     "name": "stdout",
     "output_type": "stream",
     "text": [
      "Similarity successfully calculated!\n",
      "Calculating partitions...\n"
     ]
    },
    {
     "name": "stderr",
     "output_type": "stream",
     "text": [
      "100%|██████████| 10/10 [00:00<00:00, 146.95it/s]"
     ]
    },
    {
     "name": "stdout",
     "output_type": "stream",
     "text": [
      "Partitions successfully calculated!\n"
     ]
    },
    {
     "name": "stderr",
     "output_type": "stream",
     "text": [
      "\n"
     ]
    }
   ],
   "source": [
    "from hestia import HestiaGenerator, SimArguments\n",
    "\n",
    "sim_args_1 = SimArguments(\n",
    "    # Change in case of biosequences, protein structures, or embeddings\n",
    "    data_type='molecule',\n",
    "    # Corresponds to the field with the molecule SMILES\n",
    "    field_name='Drug',\n",
    "    # Minimum threshold to attempt to find a viable partition, if memory problems it can be raised\n",
    "    min_threshold=0.,\n",
    "    verbose=3,\n",
    "    sim_function='tanimoto',\n",
    "    bits=2048,\n",
    "    # ECFP-4 has diameter 4, therefore radius 2\n",
    "    radius=2,\n",
    "    fingerprint='ecfp'\n",
    ")\n",
    "# Initialise generator\n",
    "hg_1 = HestiaGenerator(df, verbose=True)\n",
    "\n",
    "# Generate partitions with similarity function described above\n",
    "hg_1.calculate_partitions(\n",
    "    sim_args=sim_args_1,\n",
    "    # Label name for classification tasks, keeps label balance if possible\n",
    "    label_name='Y',\n",
    "    threshold_step=0.1,\n",
    "    test_size=0.2,\n",
    "    valid_size=0.1\n",
    ")\n"
   ]
  },
  {
   "cell_type": "code",
   "execution_count": 4,
   "metadata": {},
   "outputs": [
    {
     "name": "stdout",
     "output_type": "stream",
     "text": [
      "Initialising Hestia Dataset Generator\n",
      "Number of items in data: 475\n",
      "Calculating similarity...\n",
      "Calculating molecular similarities using mapc with 2,048 bits, radius 2 and jaccard index...\n"
     ]
    },
    {
     "name": "stderr",
     "output_type": "stream",
     "text": [
      "Query FPs: 100%|██████████| 475/475 [00:02<00:00, 209it/s]\n",
      "Similarity calculation: 100%|██████████| 475/475 [00:00<00:00, 1.66kit/s]\n"
     ]
    },
    {
     "name": "stdout",
     "output_type": "stream",
     "text": [
      "Similarity successfully calculated!\n",
      "Calculating partitions...\n"
     ]
    },
    {
     "name": "stderr",
     "output_type": "stream",
     "text": [
      "100%|██████████| 10/10 [00:00<00:00, 153.03it/s]"
     ]
    },
    {
     "name": "stdout",
     "output_type": "stream",
     "text": [
      "Partitions successfully calculated!\n"
     ]
    },
    {
     "name": "stderr",
     "output_type": "stream",
     "text": [
      "\n"
     ]
    }
   ],
   "source": [
    "sim_args_2 = SimArguments(\n",
    "    data_type='molecule',\n",
    "    field_name='Drug',\n",
    "    min_threshold=0.,\n",
    "    verbose=3,\n",
    "    # Changed to jaccard\n",
    "    sim_function='jaccard',\n",
    "    bits=2048,\n",
    "    radius=2,\n",
    "    # Changed to MAPc\n",
    "    fingerprint='mapc'\n",
    ")\n",
    "# Initialise generator\n",
    "hg_2 = HestiaGenerator(df, verbose=True)\n",
    "\n",
    "# Generate partitions with similarity function described above\n",
    "hg_2.calculate_partitions(\n",
    "    sim_args=sim_args_2,\n",
    "    # Label name for classification tasks, keeps label balance if possible\n",
    "    label_name='Y',\n",
    "    threshold_step=0.1,\n",
    "    test_size=0.2,\n",
    "    valid_size=0.1,\n",
    ")"
   ]
  },
  {
   "cell_type": "markdown",
   "metadata": {},
   "source": [
    "# 3. Evaluation of similarity functions\n",
    "\n",
    "In this tutorial, we will use a linear SVM with ECFP-4 with 2,048 bits as its features to evaluate the similarity functions."
   ]
  },
  {
   "cell_type": "code",
   "execution_count": 5,
   "metadata": {},
   "outputs": [
    {
     "name": "stderr",
     "output_type": "stream",
     "text": [
      "Features: 100%|██████████| 475/475 [00:00<00:00, 1.09Mit/s]\n"
     ]
    },
    {
     "name": "stdout",
     "output_type": "stream",
     "text": [
      "Computing partitions: 0.3 for sim function: 0\n",
      "Computing partitions: 0.4 for sim function: 0\n",
      "Computing partitions: 0.5 for sim function: 0\n",
      "Computing partitions: 0.6 for sim function: 0\n",
      "Computing partitions: 0.7 for sim function: 0\n",
      "Computing partitions: 0.8 for sim function: 0\n",
      "Computing partitions: 0.9 for sim function: 0\n",
      "Computing partitions: random for sim function: 0\n",
      "Computing partitions: 0.1 for sim function: 1\n",
      "Computing partitions: 0.2 for sim function: 1\n",
      "Computing partitions: 0.3 for sim function: 1\n",
      "Computing partitions: 0.4 for sim function: 1\n",
      "Computing partitions: 0.5 for sim function: 1\n",
      "Computing partitions: 0.6 for sim function: 1\n",
      "Computing partitions: 0.7 for sim function: 1\n",
      "Computing partitions: 0.8 for sim function: 1\n",
      "Computing partitions: 0.9 for sim function: 1\n",
      "Computing partitions: random for sim function: 1\n"
     ]
    }
   ],
   "source": [
    "import numpy as np\n",
    "from rdkit import Chem\n",
    "from rdkit.Chem import rdFingerprintGenerator\n",
    "from tqdm import tqdm\n",
    "from concurrent.futures import ThreadPoolExecutor\n",
    "from multiprocessing import cpu_count\n",
    "from typing import List\n",
    "from sklearn.metrics import matthews_corrcoef\n",
    "from sklearn.svm import LinearSVC\n",
    "\n",
    "# Define fingerprints for featurization\n",
    "fpgen = rdFingerprintGenerator.GetMorganGenerator(\n",
    "    radius=2, fpSize=2048\n",
    ")\n",
    "def _get_fp(smile: str):\n",
    "    mol = Chem.MolFromSmiles(smile)\n",
    "    fp = fpgen.GetFingerprintAsNumPy(mol).astype(np.int8)\n",
    "    return fp\n",
    "\n",
    "# Calculate FPs in parallel\n",
    "def _parallel_fps(mols: List[str], mssg: str) -> list:\n",
    "    fps = []\n",
    "    jobs = []\n",
    "    with ThreadPoolExecutor(max_workers=cpu_count()) as executor:\n",
    "        for mol in mols:\n",
    "            job = executor.submit(_get_fp, mol)\n",
    "            jobs.append(job)\n",
    "\n",
    "        pbar = tqdm(jobs, desc=mssg, unit_scale=True,\n",
    "                    mininterval=0.5, maxinterval=2)\n",
    "\n",
    "        for job in pbar:\n",
    "            if job.exception() is not None:\n",
    "                raise RuntimeError(job.exception())\n",
    "            result = job.result()\n",
    "            fps.append(result)\n",
    "    return fps\n",
    "\n",
    "#  We define the features and labels for the model\n",
    "x = np.stack(_parallel_fps(df.Drug.tolist(), \"Features\"))\n",
    "y = df.Y.to_numpy()\n",
    "result = {\n",
    "    'sim_function': [],\n",
    "    'threshold': [],\n",
    "    'performance': []\n",
    "}\n",
    "\n",
    "# We iterate over both similarity functions\n",
    "for sim_idx, hg in enumerate([hg_1, hg_2]):\n",
    "\n",
    "    # We filter non-viable partitions (those with test set with less than 18.5% of the total data)\n",
    "    for th, part in hg.get_partitions(filter=0.185):\n",
    "        print(f\"Computing partitions: {th} for sim function: {sim_idx}\")\n",
    "        train_x, valid_x, test_x = x[part['train']], x[part['valid']], x[part['test']]\n",
    "        train_y, valid_y, test_y = y[part['train']], y[part['valid']], y[part['test']]\n",
    "        result['sim_function'].append(sim_idx)\n",
    "        result['threshold'].append(th)\n",
    "        model = LinearSVC()\n",
    "        model.fit(train_x, train_y)\n",
    "        test_y_pred = model.predict(test_x)\n",
    "        result['performance'].append(matthews_corrcoef(test_y_pred, test_y))\n",
    "\n",
    "result_df = pd.DataFrame(result)\n"
   ]
  },
  {
   "cell_type": "markdown",
   "metadata": {},
   "source": [
    "## 3.1 Visual inspection"
   ]
  },
  {
   "cell_type": "code",
   "execution_count": 6,
   "metadata": {},
   "outputs": [
    {
     "data": {
      "text/plain": [
       "<Axes: xlabel='threshold', ylabel='performance'>"
      ]
     },
     "execution_count": 6,
     "metadata": {},
     "output_type": "execute_result"
    },
    {
     "data": {
      "image/png": "[encoded data removed]",
      "text/plain": [
       "<Figure size 640x480 with 1 Axes>"
      ]
     },
     "metadata": {},
     "output_type": "display_data"
    }
   ],
   "source": [
    "import seaborn as sns\n",
    "\n",
    "sim_functions = ['ECFP-4 Tanimoto', \"MAPc-4 Jaccard\"]\n",
    "result_df['sim_function'] = result_df.sim_function.map(lambda x: sim_functions[x])\n",
    "result_df = result_df[result_df.threshold != 'random']\n",
    "sns.lineplot(result_df, x='threshold', y='performance', hue='sim_function', err_style='bars')"
   ]
  },
  {
   "cell_type": "markdown",
   "metadata": {},
   "source": [
    "Both curves are somewhat noisy, this can be mitigated by performing cross-validation to reduce the effect of model stochasticity in the results.\n",
    "\n",
    "However, MAPc shows a larger threshold range and a greater distance between highest and lowest point showing increased resolution. Next step will provide quantitative measures for those qualitative observations."
   ]
  },
  {
   "cell_type": "markdown",
   "metadata": {},
   "source": [
    "## 3.2 Quantitative analysis\n",
    "\n",
    "We provide two quantitative measures to compare the similarity functions:\n",
    "\n",
    "1. `dynamic range`: distance between maximum and minimum viable thresholds\n",
    "2. `monotonicity`: non-linear correlation (Spearman's $\\rho$) between threshold and model performance. Closer to 1 means that the model performance **is** a function of the threshold. And therefore the similarity function is reliable, closer to 0 means the opposite.\n",
    "\n",
    "A similarity function should have a decent dynamic range and as great a monotonicity as possible. Monotonicities below 0.4 are unreliable."
   ]
  },
  {
   "cell_type": "code",
   "execution_count": 7,
   "metadata": {},
   "outputs": [
    {
     "name": "stdout",
     "output_type": "stream",
     "text": [
      "ECFP-4 Tanimoto - monotonicity: 0.8829187134416479 - dynamic range: 0.6000000000000001\n",
      "MAPc-4 Jaccard - monotonicity: 0.9623515200690814 - dynamic range: 0.8\n"
     ]
    }
   ],
   "source": [
    "c_1 = result_df[result_df['sim_function'] == sim_functions[0]]\n",
    "monotonicity, dynamic_range = hg.evaluate_curve(c_1.threshold, c_1.performance)\n",
    "print(f\"{sim_functions[0]} - monotonicity: {monotonicity} - dynamic range: {dynamic_range}\")\n",
    "c_2 = result_df[result_df['sim_function'] == sim_functions[1]]\n",
    "monotonicity, dynamic_range = hg.evaluate_curve(c_2.threshold, c_2.performance)\n",
    "print(f\"{sim_functions[1]} - monotonicity: {monotonicity} - dynamic range: {dynamic_range}\")\n"
   ]
  },
  {
   "cell_type": "markdown",
   "metadata": {},
   "source": [
    "The MAPc-4 Jaccard similarity function is superior both in terms of its monotonicity and dynamic range"
   ]
  },
  {
   "cell_type": "markdown",
   "metadata": {},
   "source": [
    "# 4. Evaluation of other models\n",
    "\n",
    "Here now we will use the `hg_2` with the best similarity function we've found so far, for evaluating the linear SVM against a random forest"
   ]
  },
  {
   "cell_type": "code",
   "execution_count": 8,
   "metadata": {},
   "outputs": [
    {
     "name": "stdout",
     "output_type": "stream",
     "text": [
      "Computing partitions: 0.1 for model: svm\n",
      "Computing partitions: 0.2 for model: svm\n",
      "Computing partitions: 0.3 for model: svm\n",
      "Computing partitions: 0.4 for model: svm\n",
      "Computing partitions: 0.5 for model: svm\n",
      "Computing partitions: 0.6 for model: svm\n",
      "Computing partitions: 0.7 for model: svm\n",
      "Computing partitions: 0.8 for model: svm\n",
      "Computing partitions: 0.9 for model: svm\n",
      "Computing partitions: random for model: svm\n",
      "Computing partitions: 0.1 for model: rf\n",
      "Computing partitions: 0.2 for model: rf\n",
      "Computing partitions: 0.3 for model: rf\n",
      "Computing partitions: 0.4 for model: rf\n",
      "Computing partitions: 0.5 for model: rf\n",
      "Computing partitions: 0.6 for model: rf\n",
      "Computing partitions: 0.7 for model: rf\n",
      "Computing partitions: 0.8 for model: rf\n",
      "Computing partitions: 0.9 for model: rf\n",
      "Computing partitions: random for model: rf\n"
     ]
    }
   ],
   "source": [
    "from sklearn.ensemble import RandomForestClassifier\n",
    "result = {\n",
    "    'model': [],\n",
    "    'threshold': [],\n",
    "    'performance': []\n",
    "}\n",
    "for model in ['svm', 'rf']:\n",
    "    for th, part in hg_2.get_partitions(filter=0.185):\n",
    "        print(f\"Computing partitions: {th} for model: {model}\")\n",
    "        train_x, valid_x, test_x = x[part['train']], x[part['valid']], x[part['test']]\n",
    "        train_y, valid_y, test_y = y[part['train']], y[part['valid']], y[part['test']]\n",
    "        result['model'].append(model)\n",
    "        result['threshold'].append(th)\n",
    "        if model == 'svm':\n",
    "            c = LinearSVC()\n",
    "        else:\n",
    "            c = RandomForestClassifier(n_estimators=100)\n",
    "        c.fit(train_x, train_y)\n",
    "        test_y_pred = c.predict(test_x)\n",
    "        result['performance'].append(matthews_corrcoef(test_y_pred, test_y))\n",
    "\n",
    "\n",
    "result_df = pd.DataFrame(result)"
   ]
  },
  {
   "cell_type": "markdown",
   "metadata": {},
   "source": [
    "## 4.1 GOOD curve"
   ]
  },
  {
   "cell_type": "code",
   "execution_count": 9,
   "metadata": {},
   "outputs": [
    {
     "data": {
      "text/plain": [
       "<Axes: xlabel='threshold', ylabel='performance'>"
      ]
     },
     "execution_count": 9,
     "metadata": {},
     "output_type": "execute_result"
    },
    {
     "data": {
      "image/png": "[encoded data removed]",
      "text/plain": [
       "<Figure size 640x480 with 1 Axes>"
      ]
     },
     "metadata": {},
     "output_type": "display_data"
    }
   ],
   "source": [
    "# Plot GOOD curve\n",
    "result_df = result_df[result_df['threshold'] != 'random']\n",
    "sns.lineplot(result_df, x='threshold', y='performance', hue='model')"
   ]
  },
  {
   "cell_type": "markdown",
   "metadata": {},
   "source": [
    "Though, they both have similar performance and in some thresholds even identical, the `RandomForest` achieves better performance overall. Choosing one threshold alone, might have led to incorrect conclusions about their differences."
   ]
  },
  {
   "cell_type": "markdown",
   "metadata": {},
   "source": [
    "## 4.2 AU-GOOD metric\n",
    "\n",
    "Let us consider the case where we want to apply this dataset to the drug repurposing hub. We can estimate the model performance for that target distribution through the calculation of the AU-GOOD metric."
   ]
  },
  {
   "cell_type": "code",
   "execution_count": 10,
   "metadata": {},
   "outputs": [
    {
     "data": {
      "text/html": [
       "<div>\n",
       "<style scoped>\n",
       "    .dataframe tbody tr th:only-of-type {\n",
       "        vertical-align: middle;\n",
       "    }\n",
       "\n",
       "    .dataframe tbody tr th {\n",
       "        vertical-align: top;\n",
       "    }\n",
       "\n",
       "    .dataframe thead th {\n",
       "        text-align: right;\n",
       "    }\n",
       "</style>\n",
       "<table border=\"1\" class=\"dataframe\">\n",
       "  <thead>\n",
       "    <tr style=\"text-align: right;\">\n",
       "      <th></th>\n",
       "      <th>SMILES</th>\n",
       "    </tr>\n",
       "  </thead>\n",
       "  <tbody>\n",
       "    <tr>\n",
       "      <th>0</th>\n",
       "      <td>CN1CCc2cccc-3c2[C@H]1Cc1ccc(O)c(O)c-31</td>\n",
       "    </tr>\n",
       "    <tr>\n",
       "      <th>1</th>\n",
       "      <td>CN1CCc2cccc-3c2[C@H]1Cc1ccc(O)c(O)c-31</td>\n",
       "    </tr>\n",
       "    <tr>\n",
       "      <th>2</th>\n",
       "      <td>CN1CCc2cccc-3c2[C@H]1Cc1ccc(O)c(O)c-31</td>\n",
       "    </tr>\n",
       "    <tr>\n",
       "      <th>3</th>\n",
       "      <td>CN1CCc2cccc-3c2[C@H]1Cc1ccc(O)c(O)c-31</td>\n",
       "    </tr>\n",
       "    <tr>\n",
       "      <th>4</th>\n",
       "      <td>COc1ccc(cc1OC1CCCC1)[C@@H]1CNC(=O)C1</td>\n",
       "    </tr>\n",
       "  </tbody>\n",
       "</table>\n",
       "</div>"
      ],
      "text/plain": [
       "                                   SMILES\n",
       "0  CN1CCc2cccc-3c2[C@H]1Cc1ccc(O)c(O)c-31\n",
       "1  CN1CCc2cccc-3c2[C@H]1Cc1ccc(O)c(O)c-31\n",
       "2  CN1CCc2cccc-3c2[C@H]1Cc1ccc(O)c(O)c-31\n",
       "3  CN1CCc2cccc-3c2[C@H]1Cc1ccc(O)c(O)c-31\n",
       "4    COc1ccc(cc1OC1CCCC1)[C@@H]1CNC(=O)C1"
      ]
     },
     "execution_count": 10,
     "metadata": {},
     "output_type": "execute_result"
    }
   ],
   "source": [
    "target_df = pd.read_csv('data/drh.tsv', sep='\\t')\n",
    "smiles = target_df['SMILES']\n",
    "new_smiles = []\n",
    "for smile in smiles:\n",
    "    if isinstance(smile, float):\n",
    "        continue\n",
    "    if ',' in smile:\n",
    "        in_smiles = smile.split(', ')\n",
    "        new_smiles.extend(in_smiles)\n",
    "    else:\n",
    "        new_smiles.append(smile)\n",
    "new_smiles = [s if '|' not in s else s.split('|')[0] for s in new_smiles]\n",
    "tgt_df = pd.DataFrame({'SMILES': new_smiles})\n",
    "tgt_df.head()"
   ]
  },
  {
   "cell_type": "code",
   "execution_count": 11,
   "metadata": {},
   "outputs": [
    {
     "name": "stdout",
     "output_type": "stream",
     "text": [
      "Calculating similarity...\n",
      "Calculating molecular similarities using mapc with 2,048 bits, radius 2 and jaccard index...\n"
     ]
    },
    {
     "name": "stderr",
     "output_type": "stream",
     "text": [
      "Query FPs: 100%|██████████| 475/475 [00:02<00:00, 206it/s]\n",
      "Target FPs: 100%|██████████| 20.3k/20.3k [00:47<00:00, 425it/s]  \n",
      "Similarity calculation: 100%|██████████| 475/475 [00:08<00:00, 56.6it/s] \n"
     ]
    },
    {
     "name": "stdout",
     "output_type": "stream",
     "text": [
      "Similarity successfully calculated!\n",
      "Calculating similarity...\n",
      "Calculating molecular similarities using mapc with 2,048 bits, radius 2 and jaccard index...\n"
     ]
    },
    {
     "name": "stderr",
     "output_type": "stream",
     "text": [
      "Query FPs: 100%|██████████| 475/475 [00:02<00:00, 185it/s]\n",
      "Target FPs: 100%|██████████| 20.3k/20.3k [00:12<00:00, 1.56kit/s]\n",
      "Similarity calculation: 100%|██████████| 475/475 [00:07<00:00, 65.4it/s] \n"
     ]
    },
    {
     "name": "stdout",
     "output_type": "stream",
     "text": [
      "Similarity successfully calculated!\n",
      "AU-GOOD for model: svm against Drug Repurposing Hub is 0.942\n",
      "AU-GOOD for model: rf against Drug Repurposing Hub is 0.962\n"
     ]
    }
   ],
   "source": [
    "values = []\n",
    "for model in ['svm', 'rf']:\n",
    "    mini_df = result_df[result_df['model'] == model]\n",
    "    good_curve, augood = hg_2.calculate_augood(\n",
    "        results={th: val for th, val in zip(mini_df.threshold, mini_df.performance)},\n",
    "        target_df=tgt_df,\n",
    "        target_field_name='SMILES',\n",
    "        return_weights=False\n",
    "    )\n",
    "    values.append(augood)\n",
    "for idx, model in enumerate(['svm', 'rf']):\n",
    "    print(f\"AU-GOOD for model: {model} against Drug Repurposing Hub is {values[idx]:.3g}\")"
   ]
  },
  {
   "cell_type": "markdown",
   "metadata": {},
   "source": [
    "# 5. Save/Load Hestia Generator"
   ]
  },
  {
   "cell_type": "code",
   "execution_count": null,
   "metadata": {},
   "outputs": [
    {
     "name": "stdout",
     "output_type": "stream",
     "text": [
      "Initialising Hestia Dataset Generator\n",
      "Number of items in data: 475\n",
      "{'partition_algorithm': {'algorithm': 'ccpart', 'min_threshold': 0, 'threshold_step': 10, 'test_size': 0.2, 'valid_size': 0.1, 'random_state': 42, 'n_partitions': None}, 'similarity_metric': {'data_type': 'molecule', 'field_name': 'Drug', 'min_threshold': 0.0, 'threads': 10, 'verbose': 3, 'save_alignment': False, 'filename': 'alignment', 'target_df':                                                   SMILES  \\\n",
      "0                 CN1CCc2cccc-3c2[C@H]1Cc1ccc(O)c(O)c-31   \n",
      "1                 CN1CCc2cccc-3c2[C@H]1Cc1ccc(O)c(O)c-31   \n",
      "2                 CN1CCc2cccc-3c2[C@H]1Cc1ccc(O)c(O)c-31   \n",
      "3                 CN1CCc2cccc-3c2[C@H]1Cc1ccc(O)c(O)c-31   \n",
      "4                   COc1ccc(cc1OC1CCCC1)[C@@H]1CNC(=O)C1   \n",
      "...                                                  ...   \n",
      "20278                              Nc1c2ccccc2nc2ccccc12   \n",
      "20279  CC[C@@]1(O)C(=O)OCc2c1cc1-c3nc4cccc(N)c4cc3Cn1...   \n",
      "20280  CC[C@@]1(O)C(=O)OCc2c1cc1-c3nc4cccc(N)c4cc3Cn1...   \n",
      "20281                         OC(=O)c1c2ccccc2cc2ccccc12   \n",
      "20282                         OC(=O)c1c2ccccc2cc2ccccc12   \n",
      "\n",
      "                                                    Drug  \n",
      "0                 CN1CCc2cccc-3c2[C@H]1Cc1ccc(O)c(O)c-31  \n",
      "1                 CN1CCc2cccc-3c2[C@H]1Cc1ccc(O)c(O)c-31  \n",
      "2                 CN1CCc2cccc-3c2[C@H]1Cc1ccc(O)c(O)c-31  \n",
      "3                 CN1CCc2cccc-3c2[C@H]1Cc1ccc(O)c(O)c-31  \n",
      "4                   COc1ccc(cc1OC1CCCC1)[C@@H]1CNC(=O)C1  \n",
      "...                                                  ...  \n",
      "20278                              Nc1c2ccccc2nc2ccccc12  \n",
      "20279  CC[C@@]1(O)C(=O)OCc2c1cc1-c3nc4cccc(N)c4cc3Cn1...  \n",
      "20280  CC[C@@]1(O)C(=O)OCc2c1cc1-c3nc4cccc(N)c4cc3Cn1...  \n",
      "20281                         OC(=O)c1c2ccccc2cc2ccccc12  \n",
      "20282                         OC(=O)c1c2ccccc2cc2ccccc12  \n",
      "\n",
      "[20283 rows x 2 columns], 'bits': 2048, 'radius': 2, 'fingerprint': 'mapc', 'sim_function': 'jaccard'}, 'cluster_composition': {0.0: array([0, 0, 0, 0, 0, 0, 0, 0, 0, 0, 0, 0, 0, 0, 0, 0, 0, 0, 0, 0, 0, 0,\n",
      "       0, 0, 0, 0, 0, 0, 0, 0, 0, 0, 0, 0, 0, 0, 0, 0, 0, 0, 0, 0, 0, 0,\n",
      "       0, 0, 0, 0, 0, 0, 0, 0, 0, 0, 0, 0, 0, 0, 0, 0, 0, 0, 0, 0, 0, 0,\n",
      "       0, 0, 0, 0, 0, 0, 0, 0, 0, 0, 0, 0, 0, 0, 0, 0, 0, 0, 0, 0, 0, 0,\n",
      "       0, 0, 0, 0, 0, 0, 0, 0, 0, 0, 0, 0, 0, 0, 0, 0, 0, 0, 0, 0, 0, 0,\n",
      "       0, 0, 0, 0, 0, 0, 0, 0, 0, 0, 0, 0, 0, 0, 0, 0, 0, 0, 0, 0, 0, 0,\n",
      "       0, 0, 0, 0, 0, 0, 0, 0, 0, 0, 0, 0, 0, 0, 0, 0, 0, 0, 0, 0, 0, 0,\n",
      "       0, 0, 0, 0, 0, 0, 0, 0, 0, 0, 0, 0, 0, 0, 0, 0, 0, 0, 0, 0, 0, 0,\n",
      "       0, 0, 0, 0, 0, 0, 0, 0, 0, 0, 0, 0, 0, 0, 0, 0, 0, 0, 0, 0, 0, 0,\n",
      "       0, 0, 0, 0, 0, 0, 0, 0, 0, 0, 0, 0, 0, 0, 0, 0, 0, 0, 0, 0, 0, 0,\n",
      "       0, 0, 0, 0, 0, 0, 0, 0, 0, 0, 0, 0, 0, 0, 0, 0, 0, 0, 0, 0, 0, 0,\n",
      "       0, 0, 0, 0, 0, 0, 0, 0, 0, 0, 0, 0, 0, 0, 0, 0, 0, 0, 0, 0, 0, 0,\n",
      "       0, 0, 0, 0, 0, 0, 0, 0, 0, 0, 0, 0, 0, 0, 0, 0, 0, 0, 0, 0, 0, 0,\n",
      "       0, 0, 0, 0, 0, 0, 0, 0, 0, 0, 0, 0, 0, 0, 0, 0, 0, 0, 0, 0, 0, 0,\n",
      "       0, 0, 0, 0, 0, 0, 0, 0, 0, 0, 0, 0, 0, 0, 0, 0, 0, 0, 0, 0, 0, 0,\n",
      "       0, 0, 0, 0, 0, 0, 0, 0, 0, 0, 0, 0, 0, 0, 0, 0, 0, 0, 0, 0, 0, 0,\n",
      "       0, 0, 0, 0, 0, 0, 0, 0, 0, 0, 0, 0, 0, 0, 0, 0, 0, 0, 0, 0, 0, 0,\n",
      "       0, 0, 0, 0, 0, 0, 0, 0, 0, 0, 0, 0, 0, 0, 0, 0, 0, 0, 0, 0, 0, 0,\n",
      "       0, 0, 0, 0, 0, 0, 0, 0, 0, 0, 0, 0, 0, 0, 0, 0, 0, 0, 0, 0, 0, 0,\n",
      "       0, 0, 0, 0, 0, 0, 0, 0, 0, 0, 0, 0, 0, 0, 0, 0, 0, 0, 0, 0, 0, 0,\n",
      "       0, 0, 0, 0, 0, 0, 0, 0, 0, 0, 0, 0, 0, 0, 0, 0, 0, 0, 0, 0, 0, 0,\n",
      "       0, 0, 0, 0, 0, 0, 0, 0, 0, 0, 0, 0, 0], dtype=int32), 0.1: array([  0,   0,   1,   1,   1,   2,   3,   4,   1,   5,   2,   1,   1,\n",
      "         6,   7,   8,   9,  10,   1,  11,  12,  13,   1,  14,   1,   1,\n",
      "         3,  15,  16,  17,  18,   1,   1,   1,  19,   1,  20,  21,  22,\n",
      "         1,   1,   1,   0,   1,  23,  24,  25,  26,  27,  28,   1,   1,\n",
      "         1,  29,   1,  30,  31,   1,  32,   1,   1,  33,  34,  35,  36,\n",
      "        37,   1,   1,   1,  38,   1,  39,   1,   1,   1,   1,  40,   1,\n",
      "        41,  42,  28,   1,  43,   1,   3,  44,  45,   1,   1,   1,   1,\n",
      "        46,  47,  48,  49,  50,  21,   1,   1,  51,  38,   1,   3,   2,\n",
      "         1,  21,  52,   1,   1,   1,   1,  25,  53,   1,  17,  54,  55,\n",
      "         1,   1,  56,   1,   1,  57,  58,  36,   1,   1,  59,   1,   1,\n",
      "         1,   1,   1,  60,  16,   1,   1,  61,   1,  62,   1,  63,   1,\n",
      "        64,   1,  65,   1,  36,   2,  66,  54,  67,  67,   1,  68,  67,\n",
      "         1,  36,   1,   1,   1,   1,   3,   6,   1,   1,   1,  69,   1,\n",
      "        70,   1,   1,  71,  72,  73,  21,  74,  75,   1,  76,   1,   1,\n",
      "        21,   1,  21,   1,  77,   1,  78,  45,  79,   1,   1,  80,  81,\n",
      "         0,   1,   1,   1,   1,  71,  82,   1,  83,   1,   1,   1,   1,\n",
      "         1,   1,   1,   3,  84,   1,   1,   1,  85,  86,  87,   1,  88,\n",
      "         1,   1,   1,  89,  90,   1,   1,   1,   1,  91,   1,   1,  90,\n",
      "        92,   1,   1,   1,   2,   1,   1,   1,   2,   3,  93,  50,   1,\n",
      "         1,  90,   3,  94,   1,   1,   1,   1,  95,   1,   1,  96,   1,\n",
      "        97,  90,  95,   1,   1,   1,   1,   0,   1,  98,   2,  99,   1,\n",
      "         1, 100,   1, 101,   1,  90, 102,  85,   1, 103, 104,  43,   1,\n",
      "         1,  90,   1,   2,   1,   1,   1, 105,  90, 106,   1,  80,   1,\n",
      "         1,   1,   1,  80, 107,   1,   2, 108,   1,   1,   1,   2,   1,\n",
      "         1,   1,  90,   1, 109, 110,   1,  21,   2,   1,   1,  21, 111,\n",
      "         1,   1,   1,  90, 112,   1, 113,  90,   1, 114,   1,   1,   1,\n",
      "       100, 113,   1,   1,  21,  36, 115, 116,   1, 117, 118, 119, 120,\n",
      "         1,   1, 121, 122, 123,  90,  21,  90,  59,  90,  36, 124,  17,\n",
      "        11, 125, 126,  21,   1, 127,  62,  36,  85, 128, 100, 129, 130,\n",
      "       131,   1, 132, 133, 109,  36,   1,   1,  36, 134,  90,   2,   3,\n",
      "         1, 135, 100, 136, 137, 138,   1,   3, 139,   1, 122, 140,   2,\n",
      "         1,   1,   1,   1,   1,   1,  95, 120, 141,   1, 116,   1, 142,\n",
      "       143, 144,   1, 145, 146, 123, 143,   1, 147, 148, 149,   1,   1,\n",
      "       122,   1,   1, 150,   1, 151, 152,   1,   1,   1,   1,   1,   1,\n",
      "         1,   1, 153, 154,  38, 155,   1,   1,   1, 122, 156, 100, 157,\n",
      "         3,   1, 158, 159, 156,   1, 106,   1, 160, 161, 162, 163,   1,\n",
      "       164,  80,   3, 165, 151,   2, 151], dtype=int32), 0.2: array([  0,   1,   2,   3,   4,   5,   6,   7,   8,   9,  10,   3,   3,\n",
      "        11,  12,  13,  14,  15,  16,  17,  18,  19,  20,  21,  22,   8,\n",
      "        23,  24,  25,  26,  27,  28,  29,  30,  31,   3,  32,  33,  34,\n",
      "        35,  36,   8,  37,  38,  39,  40,  41,  42,  43,  44,  45,  46,\n",
      "         8,  47,  48,  49,  50,   8,  51,   8,  20,  52,  53,  54,  55,\n",
      "        56,  57,  58,  29,  59,  60,  61,  62,  63,  64,  65,  66,   8,\n",
      "        67,  68,  69,   8,  70,  71,  23,  72,  73,  74,  75,  76,  77,\n",
      "        78,  79,  80,  81,  82,  83,  75,  84,  85,  59,  86,   6,  87,\n",
      "        88,  89,  90,  91,  92,   8,   8,  41,  93,  94,  95,  96,  97,\n",
      "         8,  98,  99,  75,  75, 100, 101,  55, 102, 103, 104,  29,  22,\n",
      "         8,  63,  63, 105,  25, 106,   8, 107, 108, 109, 110, 111, 112,\n",
      "       113, 114, 115, 116, 117, 118, 119, 120, 121, 121,  84, 122, 121,\n",
      "       123,  55,   8, 124,  22, 125,  23,  11, 126,   8, 127, 128, 129,\n",
      "       130, 131,   8, 132, 133, 134,  33, 135, 136,  28, 137, 138,  38,\n",
      "       139, 140,  33,  29, 141, 142, 143, 144, 145,   3,   8, 146, 147,\n",
      "         0,  60,  60,  60,  60, 132, 148, 149, 150, 151,  77, 152, 153,\n",
      "        20,  20,  75,   6, 154,  38, 155, 156, 157, 158, 159, 160, 161,\n",
      "       125, 160, 162, 163, 164,   8,   8, 160, 160, 165, 166, 167, 164,\n",
      "       168, 169, 170,  48, 118,   8, 112, 167, 171, 172, 173, 174, 175,\n",
      "       160, 176, 177, 178,   8,   8, 179, 180, 181, 182, 183, 184,   8,\n",
      "       185, 176, 181, 160, 160, 160,   8, 186,  60, 187, 171, 188, 189,\n",
      "         8, 190, 160, 191, 183, 176, 192, 193, 194, 195, 196,  70,   8,\n",
      "       197, 198, 167, 199, 200, 160, 201, 202, 176, 203,  22, 146,   8,\n",
      "         8, 204, 205, 146, 206,  58, 207, 208, 209, 160, 210, 211,  94,\n",
      "         8, 212, 198, 213, 214, 215,   8, 216, 118, 217, 218, 216, 219,\n",
      "       220, 221, 222, 223, 224,  48, 225, 226, 227, 228, 227, 229, 230,\n",
      "       190, 225, 231, 232,  33,  55, 233, 234, 160, 235, 236, 237, 238,\n",
      "        75, 239, 240, 241, 242, 176, 243, 176, 244, 245,  55, 246, 247,\n",
      "        17, 248, 249, 250, 251, 252, 253,  55, 254, 255, 190, 256, 257,\n",
      "       258, 160, 259, 260, 214,  55, 261,  63,  55, 262, 263, 118, 264,\n",
      "         8, 265, 190, 266, 267, 268,  36, 269, 270,   8, 271, 272, 171,\n",
      "        48,   8, 273, 274, 205,   8, 181, 275, 276,  48, 234, 167, 277,\n",
      "       278, 279, 197, 280, 281, 282, 278, 283, 284, 285, 286, 287, 288,\n",
      "       289, 222, 261, 290, 175, 291, 292, 293, 294, 294, 294, 294, 294,\n",
      "       294, 294, 295, 296,  59, 297, 294,  48, 230, 298, 299, 190, 300,\n",
      "       301, 302, 303, 304, 299, 305, 203, 306, 307, 308, 309, 310, 311,\n",
      "       312, 313, 314, 315, 291, 316, 291], dtype=int32), 0.3: array([  0,   1,   2,   3,   4,   5,   6,   7,   8,   9,  10,  11,  12,\n",
      "        13,  14,  15,  16,  17,  18,  19,  20,  21,  22,  23,  24,  25,\n",
      "        26,  27,  28,  29,  30,  31,  32,  33,  34,   3,  35,  36,  37,\n",
      "        38,  39,  40,  41,  42,  43,  44,  45,  46,  47,  48,  49,  50,\n",
      "        51,  52,  53,  54,  55,  56,  57,  58,  59,  60,  61,  62,  63,\n",
      "        64,  65,  66,  67,  68,  69,  70,  71,  72,  73,  74,  75,  76,\n",
      "        77,  78,  79,  51,  80,  81,  26,  82,  83,  84,  85,  86,  87,\n",
      "        88,  89,  90,  91,  92,  93,  94,  95,  96,  97,  98,  99, 100,\n",
      "       101, 102, 103, 104, 105,  56, 106, 107, 108, 109, 110, 111, 112,\n",
      "         8, 113, 114,  85, 115, 116, 117,  63, 118, 119, 120, 121,  24,\n",
      "        56, 122, 122, 123, 124, 125,   8, 126, 127, 128, 129, 130, 131,\n",
      "       132, 133, 134, 135, 136, 137, 138, 139, 140, 141,  95, 142, 143,\n",
      "       144,  63,  76, 145,  24, 146,  26,  13, 147, 148, 149, 150, 151,\n",
      "       152, 153,  40, 154, 155, 156, 157, 158, 159, 160, 161, 162,  42,\n",
      "       163, 164, 157, 121, 165, 166, 167, 168, 169,   3, 170, 171, 172,\n",
      "       173, 174, 175, 176, 177, 154, 178, 179, 180, 181,  87, 182, 183,\n",
      "       184,  59, 185, 186, 187,  42, 188, 189, 190, 191, 192, 193, 194,\n",
      "       146, 193, 195, 196, 197,   8,  40, 193, 198, 199, 200, 201, 197,\n",
      "       202, 203, 204, 205, 137,   8, 206, 207, 208, 209, 210, 211, 212,\n",
      "       193, 213, 214, 215,  56, 216, 217, 218, 219, 220, 221, 222,  40,\n",
      "       223, 213, 219, 198, 193, 193,  40, 224, 176, 225, 208, 226, 227,\n",
      "       228, 229, 193, 230, 231, 232, 233, 234, 235, 236, 237,  80,  58,\n",
      "       238, 239, 207, 240, 241, 193, 242, 243, 213, 244,  24, 171,  40,\n",
      "        40, 245, 246, 171, 247, 248, 249, 250, 251, 193, 252, 253, 254,\n",
      "         8, 255, 239, 256, 257, 258, 259, 260, 137, 261, 262, 263, 264,\n",
      "       265, 266, 267, 268, 269, 270, 271, 272, 273, 274, 273, 275, 276,\n",
      "       229, 277, 278, 279,  36, 280, 281, 282, 283, 284, 285, 286, 287,\n",
      "       288, 289, 290, 291, 292, 213, 293, 213, 294, 295, 296, 297, 298,\n",
      "       299, 300, 301, 302, 303, 304, 305,  63, 306, 307, 229, 308, 309,\n",
      "       310, 193, 311, 312, 257,  63, 313,  72,  63, 314, 315, 137, 316,\n",
      "       170, 317, 318, 319, 320, 321,  39, 322, 323,   8, 324, 325, 326,\n",
      "       205, 327, 328, 329, 246,   8, 219, 330, 331, 332, 282, 201, 333,\n",
      "       334, 335, 336, 337, 338, 339, 340, 341, 342, 343, 344, 345, 346,\n",
      "       347, 348, 313, 349, 212, 350, 351, 352, 353, 353, 353, 353, 353,\n",
      "       353, 353, 354, 355,  97, 356, 357, 358, 359, 360, 361, 362, 363,\n",
      "       364, 365, 366, 367, 361, 368, 369, 370, 371, 372, 373, 374, 375,\n",
      "       376, 377, 378, 379, 350, 380, 350], dtype=int32), 0.4: array([  0,   1,   2,   3,   4,   5,   6,   7,   8,   9,  10,  11,  12,\n",
      "        13,  14,  15,  16,  17,  18,  19,  20,  21,  22,  23,  24,  25,\n",
      "        26,  27,  28,  29,  30,  31,  32,  33,  34,  35,  36,  37,  38,\n",
      "        39,  40,  41,  42,  43,  44,  45,  46,  47,  48,  49,  50,  51,\n",
      "        52,  53,  54,  55,  56,  57,  58,  59,  60,  61,  62,  63,  64,\n",
      "        65,  66,  67,  68,  69,  70,  71,  72,  73,  74,  75,  76,  77,\n",
      "        78,  79,  80,  81,  82,  83,  84,  85,  86,  87,  88,  89,  90,\n",
      "        91,  92,  93,  94,  95,  96,  97,  98,  99, 100, 101, 102, 103,\n",
      "       104, 105, 106, 107, 108, 109, 110, 111, 112, 113, 114, 115, 116,\n",
      "       117, 118, 119, 120, 121, 122, 123,  64, 124, 125, 126, 127, 128,\n",
      "       129, 130, 131, 132, 133, 134, 117, 135, 136, 137, 138, 139, 140,\n",
      "       141, 142, 143, 144, 145, 146, 147, 148, 149, 150, 151, 152, 153,\n",
      "       154,  64,  77, 155,  24, 156, 157,  13, 158, 159, 160, 161, 162,\n",
      "       163, 164, 165, 166, 167, 168, 169, 170, 171, 172, 173, 174,  43,\n",
      "       175, 176, 177, 127, 178, 179, 180, 181, 182, 183, 184, 185, 186,\n",
      "       187, 188, 189, 190, 191, 192, 193, 194, 195, 196,  90, 197, 198,\n",
      "       199, 200, 201, 202, 203,  43, 204, 205, 206, 207, 208, 209, 210,\n",
      "       211, 209, 212, 213, 214, 117, 215, 209, 216, 217, 218, 219, 214,\n",
      "       220, 221, 222, 223, 224, 225, 226, 227, 228, 229, 230, 231, 232,\n",
      "       233, 234, 235, 236,  57, 237, 238, 239, 240, 241, 242, 243, 244,\n",
      "       245, 246, 240, 247, 233, 248, 215, 249, 250, 251, 228, 252, 253,\n",
      "       254, 255, 233, 256, 257, 258, 259, 260, 261, 262, 263, 264,  59,\n",
      "       265, 266, 227, 267, 268, 209, 269, 270, 234, 271, 272, 185, 273,\n",
      "       244, 274, 275, 185, 276, 277, 278, 279, 280, 209, 281, 282, 283,\n",
      "       284, 285, 286, 287, 288, 289, 290, 291, 224, 292, 293, 294, 295,\n",
      "       296, 297, 298, 299, 300, 301, 302, 303, 304, 305, 304, 306, 307,\n",
      "       255, 308, 309, 310, 311, 312, 313, 314, 315, 316, 317, 318, 319,\n",
      "       320, 321, 322, 323, 324, 325, 326, 325, 327, 328, 329, 330, 331,\n",
      "       332, 333, 334, 335, 336, 337, 338,  64, 339, 340, 255, 341, 342,\n",
      "       343, 209, 344, 345, 288, 346, 347, 348, 349, 350, 351, 146, 352,\n",
      "       184, 353, 354, 355, 356, 357,  40, 358, 359, 117, 360, 361, 362,\n",
      "       223, 363, 364, 365, 366, 367, 240, 368, 369, 370, 314, 371, 372,\n",
      "       373, 374, 375, 376, 377, 378, 379, 380, 381, 382, 383, 384, 385,\n",
      "       386, 387, 347, 388, 232, 389, 390, 391, 392, 392, 392, 393, 392,\n",
      "       392, 392, 394, 395, 396, 397, 398, 399, 400, 401, 402, 403, 404,\n",
      "       405, 406, 407, 408, 402, 409, 410, 411, 412, 413, 414, 415, 416,\n",
      "       417, 418, 419, 420, 389, 421, 422], dtype=int32), 0.5: array([  0,   1,   2,   3,   4,   5,   6,   7,   8,   9,  10,  11,  12,\n",
      "        13,  14,  15,  16,  17,  18,  19,  20,  21,  22,  23,  24,  25,\n",
      "        26,  27,  28,  29,  30,  31,  32,  33,  34,  35,  36,  37,  38,\n",
      "        39,  40,  41,  42,  43,  44,  45,  46,  47,  48,  49,  50,  51,\n",
      "        52,  53,  54,  55,  56,  57,  58,  59,  60,  61,  62,  63,  64,\n",
      "        65,  66,  67,  68,  69,  70,  71,  72,  73,  74,  75,  76,  77,\n",
      "        78,  79,  80,  81,  82,  83,  84,  85,  86,  87,  88,  89,  90,\n",
      "        91,  92,  93,  94,  95,  96,  97,  98,  99, 100, 101, 102, 103,\n",
      "       104, 105, 106, 107, 108, 109, 110, 111, 112, 113, 114, 115, 116,\n",
      "       117, 118, 119, 120, 121, 122, 123,  64, 124, 125, 126, 127, 128,\n",
      "       129, 130, 131, 132, 133, 134, 135, 136, 137, 138, 139, 140, 141,\n",
      "       142, 143, 144, 145, 146, 147, 148, 149, 150, 151, 152, 153, 154,\n",
      "       155,  64,  77, 156, 157, 158, 159,  13, 160, 161, 162, 163, 164,\n",
      "       165, 166, 167, 168, 169, 170, 171, 172, 173, 174, 175, 176, 177,\n",
      "       178, 179, 180, 181, 182, 183, 184, 185, 186, 187, 188, 189, 190,\n",
      "       191, 192, 193, 194, 195, 196, 197, 198, 199, 200,  90, 201, 202,\n",
      "       203, 204, 205, 206, 207, 177, 208, 209, 210, 211, 212, 213, 214,\n",
      "       215, 216, 217, 218, 219, 117, 220, 221, 222, 223, 224, 225, 226,\n",
      "       227, 228, 229, 230, 231, 232, 233, 234, 235, 236, 237, 238, 239,\n",
      "       240, 241, 242, 243, 244, 245, 246, 247, 248, 249, 250, 251, 252,\n",
      "       253, 254, 255, 256, 257, 258, 220, 259, 260, 261, 262, 263, 264,\n",
      "       265, 266, 240, 267, 268, 269, 270, 271, 272, 273, 274, 275,  59,\n",
      "       276, 277, 234, 278, 279, 213, 280, 281, 282, 283, 284, 189, 285,\n",
      "       252, 286, 287, 189, 288, 289, 290, 291, 292, 216, 293, 294, 295,\n",
      "       296, 297, 298, 299, 300, 301, 302, 303, 231, 304, 305, 306, 307,\n",
      "       308, 309, 310, 311, 312, 313, 314, 315, 316, 317, 316, 318, 319,\n",
      "       266, 320, 321, 322, 323, 324, 325, 326, 327, 328, 329, 330, 331,\n",
      "       332, 333, 334, 335, 336, 337, 338, 337, 339, 340, 341, 342, 343,\n",
      "       344, 345, 346, 347, 348, 349, 350, 351, 352, 353, 266, 354, 355,\n",
      "       356, 213, 357, 358, 300, 359, 360, 361, 362, 363, 364, 147, 365,\n",
      "       188, 366, 367, 368, 369, 370,  40, 371, 372, 117, 373, 374, 375,\n",
      "       376, 377, 378, 379, 380, 381, 248, 382, 383, 384, 326, 385, 386,\n",
      "       387, 388, 389, 390, 391, 392, 393, 394, 395, 396, 397, 398, 399,\n",
      "       400, 401, 360, 402, 239, 403, 404, 405, 406, 407, 407, 408, 407,\n",
      "       407, 406, 409, 410, 411, 412, 413, 414, 415, 416, 417, 418, 419,\n",
      "       420, 421, 422, 423, 424, 425, 426, 427, 428, 429, 430, 431, 432,\n",
      "       433, 434, 435, 436, 437, 438, 439], dtype=int32), 0.6: array([  0,   1,   2,   3,   4,   5,   6,   7,   8,   9,  10,  11,  12,\n",
      "        13,  14,  15,  16,  17,  18,  19,  20,  21,  22,  23,  24,  25,\n",
      "        26,  27,  28,  29,  30,  31,  32,  33,  34,  35,  36,  37,  38,\n",
      "        39,  40,  41,  42,  43,  44,  45,  46,  47,  48,  49,  50,  51,\n",
      "        52,  53,  54,  55,  56,  57,  58,  59,  60,  61,  62,  63,  64,\n",
      "        65,  66,  67,  68,  69,  70,  71,  72,  73,  74,  75,  76,  77,\n",
      "        78,  79,  80,  81,  82,  83,  84,  85,  86,  87,  88,  89,  90,\n",
      "        91,  92,  93,  94,  95,  96,  97,  98,  99, 100, 101, 102, 103,\n",
      "       104, 105, 106, 107, 108, 109, 110, 111, 112, 113, 114, 115, 116,\n",
      "       117, 118, 119, 120, 121, 122, 123, 124, 125, 126, 127, 128, 129,\n",
      "       130, 131, 132, 133, 134, 135, 136, 137, 138, 139, 140, 141, 142,\n",
      "       143, 144, 145, 146, 147, 148, 149, 150, 151, 152, 153, 154, 155,\n",
      "       156,  64, 157, 158, 159, 160, 161, 162, 163, 164, 165, 166, 167,\n",
      "       168, 169, 170, 171, 172, 173, 174, 175, 176, 177, 178, 179, 180,\n",
      "       181, 182, 183, 184, 185, 186, 187, 188, 189, 190, 191, 192, 193,\n",
      "       194, 195, 196, 197, 198, 199, 200, 201, 202, 203,  90, 204, 205,\n",
      "       206, 207, 208, 209, 210, 180, 211, 212, 213, 214, 215, 216, 217,\n",
      "       218, 219, 220, 221, 222, 223, 224, 225, 226, 227, 228, 229, 230,\n",
      "       231, 232, 233, 234, 235, 236, 237, 238, 239, 240, 241, 242, 243,\n",
      "       244, 245, 246, 247, 248, 249, 250, 251, 252, 253, 254, 255, 256,\n",
      "       257, 258, 259, 260, 261, 262, 263, 264, 265, 266, 267, 268, 269,\n",
      "       270, 271, 244, 272, 273, 274, 275, 276, 277, 278, 279, 280, 281,\n",
      "       282, 283, 238, 284, 285, 286, 287, 288, 289, 290, 291, 192, 292,\n",
      "       293, 294, 295, 296, 297, 298, 299, 300, 301, 219, 302, 303, 304,\n",
      "       305, 306, 307, 308, 309, 310, 311, 312, 313, 314, 315, 316, 317,\n",
      "       318, 319, 320, 321, 322, 323, 324, 325, 326, 327, 326, 328, 329,\n",
      "       271, 330, 331, 332, 333, 334, 335, 336, 337, 338, 339, 340, 341,\n",
      "       342, 343, 344, 345, 346, 347, 348, 349, 350, 351, 352, 353, 354,\n",
      "       355, 356, 357, 358, 359, 360, 361, 362, 363, 364, 271, 365, 366,\n",
      "       367, 286, 368, 369, 309, 370, 371, 372, 373, 374, 375, 148, 376,\n",
      "       191, 377, 378, 379, 380, 381, 382, 383, 384, 385, 386, 387, 388,\n",
      "       389, 390, 391, 392, 393, 394, 252, 395, 396, 397, 398, 399, 400,\n",
      "       401, 402, 403, 404, 405, 406, 407, 408, 409, 410, 411, 412, 413,\n",
      "       414, 415, 371, 416, 417, 418, 419, 420, 421, 422, 423, 424, 422,\n",
      "       425, 426, 427, 428, 429, 430, 431, 432, 433, 434, 435, 436, 437,\n",
      "       438, 439, 440, 441, 442, 443, 444, 445, 446, 447, 448, 449, 450,\n",
      "       451, 452, 453, 454, 455, 456, 457], dtype=int32), 0.7: array([  0,   1,   2,   3,   4,   5,   6,   7,   8,   9,  10,  11,  12,\n",
      "        13,  14,  15,  16,  17,  18,  19,  20,  21,  22,  23,  24,  25,\n",
      "        26,  27,  28,  29,  30,  31,  32,  33,  34,  35,  36,  37,  38,\n",
      "        39,  40,  41,  42,  43,  44,  45,  46,  47,  48,  49,  50,  51,\n",
      "        52,  53,  54,  55,  56,  57,  58,  59,  60,  61,  62,  63,  64,\n",
      "        65,  66,  67,  68,  69,  70,  71,  72,  73,  74,  75,  76,  77,\n",
      "        78,  79,  80,  81,  82,  83,  84,  85,  86,  87,  88,  89,  90,\n",
      "        91,  92,  93,  94,  95,  96,  97,  98,  99, 100, 101, 102, 103,\n",
      "       104, 105, 106, 107, 108, 109, 110, 111, 112, 113, 114, 115, 116,\n",
      "       117, 118, 119, 120, 121, 122, 123, 124, 125, 126, 127, 128, 129,\n",
      "       130, 131, 132, 133, 134, 135, 136, 137, 138, 139, 140, 141, 142,\n",
      "       143, 144, 145, 146, 147, 148, 149, 150, 151, 152, 153, 154, 155,\n",
      "       156, 157, 158, 159, 160, 161, 162, 163, 164, 165, 166, 167, 168,\n",
      "       169, 170, 171, 172, 173, 174, 175, 176, 177, 178, 179, 180, 181,\n",
      "       182, 183, 184, 185, 186, 187, 188, 189, 190, 191, 192, 193, 194,\n",
      "       195, 196, 197, 198, 199, 200, 201, 202, 203, 204,  90, 205, 206,\n",
      "       207, 208, 209, 210, 211, 181, 212, 213, 214, 215, 216, 217, 218,\n",
      "       219, 220, 221, 222, 223, 224, 225, 226, 227, 228, 229, 230, 231,\n",
      "       232, 233, 234, 235, 236, 237, 238, 239, 240, 241, 242, 243, 244,\n",
      "       245, 246, 247, 248, 249, 250, 251, 252, 253, 254, 255, 256, 257,\n",
      "       258, 259, 260, 261, 262, 263, 264, 265, 266, 267, 268, 269, 270,\n",
      "       271, 272, 245, 273, 274, 275, 276, 277, 278, 279, 280, 281, 282,\n",
      "       283, 284, 239, 285, 286, 287, 288, 289, 290, 291, 292, 193, 293,\n",
      "       294, 295, 296, 297, 298, 299, 300, 301, 302, 303, 304, 305, 306,\n",
      "       307, 308, 309, 310, 311, 312, 313, 314, 315, 316, 317, 318, 319,\n",
      "       320, 321, 322, 323, 324, 325, 326, 327, 328, 329, 328, 330, 331,\n",
      "       332, 333, 334, 335, 336, 337, 338, 339, 340, 341, 342, 343, 344,\n",
      "       345, 346, 347, 348, 349, 350, 351, 352, 353, 354, 355, 356, 357,\n",
      "       358, 359, 360, 361, 362, 363, 364, 365, 366, 367, 272, 368, 369,\n",
      "       370, 371, 372, 373, 374, 375, 376, 377, 378, 379, 380, 148, 381,\n",
      "       382, 383, 384, 385, 386, 387, 388, 389, 390, 391, 392, 393, 394,\n",
      "       395, 396, 397, 398, 399, 400, 253, 401, 402, 403, 404, 405, 406,\n",
      "       407, 408, 409, 410, 411, 412, 413, 414, 415, 416, 417, 418, 419,\n",
      "       420, 421, 422, 423, 424, 425, 426, 427, 428, 429, 430, 431, 432,\n",
      "       433, 434, 435, 436, 437, 438, 439, 440, 441, 442, 443, 444, 445,\n",
      "       446, 447, 448, 449, 450, 451, 452, 453, 454, 455, 456, 457, 458,\n",
      "       459, 460, 461, 462, 463, 464, 465], dtype=int32), 0.8: array([  0,   1,   2,   3,   4,   5,   6,   7,   8,   9,  10,  11,  12,\n",
      "        13,  14,  15,  16,  17,  18,  19,  20,  21,  22,  23,  24,  25,\n",
      "        26,  27,  28,  29,  30,  31,  32,  33,  34,  35,  36,  37,  38,\n",
      "        39,  40,  41,  42,  43,  44,  45,  46,  47,  48,  49,  50,  51,\n",
      "        52,  53,  54,  55,  56,  57,  58,  59,  60,  61,  62,  63,  64,\n",
      "        65,  66,  67,  68,  69,  70,  71,  72,  73,  74,  75,  76,  77,\n",
      "        78,  79,  80,  81,  82,  83,  84,  85,  86,  87,  88,  89,  90,\n",
      "        91,  92,  93,  94,  95,  96,  97,  98,  99, 100, 101, 102, 103,\n",
      "       104, 105, 106, 107, 108, 109, 110, 111, 112, 113, 114, 115, 116,\n",
      "       117, 118, 119, 120, 121, 122, 123, 124, 125, 126, 127, 128, 129,\n",
      "       130, 131, 132, 133, 134, 135, 136, 137, 138, 139, 140, 141, 142,\n",
      "       143, 144, 145, 146, 147, 148, 149, 150, 151, 152, 153, 154, 155,\n",
      "       156, 157, 158, 159, 160, 161, 162, 163, 164, 165, 166, 167, 168,\n",
      "       169, 170, 171, 172, 173, 174, 175, 176, 177, 178, 179, 180, 181,\n",
      "       182, 183, 184, 185, 186, 187, 188, 189, 190, 191, 192, 193, 194,\n",
      "       195, 196, 197, 198, 199, 200, 201, 202, 203, 204, 205, 206, 207,\n",
      "       208, 209, 210, 211, 212, 181, 213, 214, 215, 216, 217, 218, 219,\n",
      "       220, 221, 222, 223, 224, 225, 226, 227, 228, 229, 230, 231, 232,\n",
      "       233, 234, 235, 236, 237, 238, 239, 240, 241, 242, 243, 244, 245,\n",
      "       246, 247, 248, 249, 250, 251, 252, 253, 254, 255, 256, 257, 258,\n",
      "       259, 260, 261, 262, 263, 264, 265, 266, 267, 268, 269, 270, 271,\n",
      "       272, 273, 274, 275, 276, 277, 278, 279, 280, 281, 282, 283, 284,\n",
      "       285, 286, 240, 287, 288, 289, 290, 291, 292, 293, 294, 193, 295,\n",
      "       296, 297, 298, 299, 300, 301, 302, 303, 304, 305, 306, 307, 308,\n",
      "       309, 310, 311, 312, 313, 314, 315, 316, 317, 318, 319, 320, 321,\n",
      "       322, 323, 324, 325, 326, 327, 328, 329, 330, 331, 332, 333, 334,\n",
      "       335, 336, 337, 338, 339, 340, 341, 342, 343, 344, 345, 346, 347,\n",
      "       348, 349, 350, 351, 352, 353, 354, 355, 356, 357, 358, 359, 360,\n",
      "       361, 362, 363, 364, 365, 366, 367, 368, 369, 370, 273, 371, 372,\n",
      "       373, 374, 375, 376, 377, 378, 379, 380, 381, 382, 383, 148, 384,\n",
      "       385, 386, 387, 388, 389, 390, 391, 392, 393, 394, 395, 396, 397,\n",
      "       398, 399, 400, 401, 402, 403, 404, 405, 406, 407, 408, 409, 410,\n",
      "       411, 412, 413, 414, 415, 416, 417, 418, 419, 420, 421, 422, 423,\n",
      "       424, 425, 426, 427, 428, 429, 430, 431, 432, 433, 434, 435, 436,\n",
      "       437, 438, 439, 440, 441, 442, 443, 444, 445, 446, 447, 448, 449,\n",
      "       450, 451, 452, 453, 454, 455, 456, 457, 458, 459, 460, 461, 462,\n",
      "       463, 464, 465, 466, 467, 468, 469], dtype=int32), 0.9: array([  0,   1,   2,   3,   4,   5,   6,   7,   8,   9,  10,  11,  12,\n",
      "        13,  14,  15,  16,  17,  18,  19,  20,  21,  22,  23,  24,  25,\n",
      "        26,  27,  28,  29,  30,  31,  32,  33,  34,  35,  36,  37,  38,\n",
      "        39,  40,  41,  42,  43,  44,  45,  46,  47,  48,  49,  50,  51,\n",
      "        52,  53,  54,  55,  56,  57,  58,  59,  60,  61,  62,  63,  64,\n",
      "        65,  66,  67,  68,  69,  70,  71,  72,  73,  74,  75,  76,  77,\n",
      "        78,  79,  80,  81,  82,  83,  84,  85,  86,  87,  88,  89,  90,\n",
      "        91,  92,  93,  94,  95,  96,  97,  98,  99, 100, 101, 102, 103,\n",
      "       104, 105, 106, 107, 108, 109, 110, 111, 112, 113, 114, 115, 116,\n",
      "       117, 118, 119, 120, 121, 122, 123, 124, 125, 126, 127, 128, 129,\n",
      "       130, 131, 132, 133, 134, 135, 136, 137, 138, 139, 140, 141, 142,\n",
      "       143, 144, 145, 146, 147, 148, 149, 150, 151, 152, 153, 154, 155,\n",
      "       156, 157, 158, 159, 160, 161, 162, 163, 164, 165, 166, 167, 168,\n",
      "       169, 170, 171, 172, 173, 174, 175, 176, 177, 178, 179, 180, 181,\n",
      "       182, 183, 184, 185, 186, 187, 188, 189, 190, 191, 192, 193, 194,\n",
      "       195, 196, 197, 198, 199, 200, 201, 202, 203, 204, 205, 206, 207,\n",
      "       208, 209, 210, 211, 212, 213, 214, 215, 216, 217, 218, 219, 220,\n",
      "       221, 222, 223, 224, 225, 226, 227, 228, 229, 230, 231, 232, 233,\n",
      "       234, 235, 236, 237, 238, 239, 240, 241, 242, 243, 244, 245, 246,\n",
      "       247, 248, 249, 250, 251, 252, 253, 254, 255, 256, 257, 258, 259,\n",
      "       260, 261, 262, 263, 264, 265, 266, 267, 268, 269, 270, 271, 272,\n",
      "       273, 274, 275, 276, 277, 278, 279, 280, 281, 282, 283, 284, 285,\n",
      "       286, 287, 288, 289, 290, 291, 292, 293, 294, 295, 296, 193, 297,\n",
      "       298, 299, 300, 301, 302, 303, 304, 305, 306, 307, 308, 309, 310,\n",
      "       311, 312, 313, 314, 315, 316, 317, 318, 319, 320, 321, 322, 323,\n",
      "       324, 325, 326, 327, 328, 329, 330, 331, 332, 333, 334, 335, 336,\n",
      "       337, 338, 339, 340, 341, 342, 343, 344, 345, 346, 347, 348, 349,\n",
      "       350, 351, 352, 353, 354, 355, 356, 357, 358, 359, 360, 361, 362,\n",
      "       363, 364, 365, 366, 367, 368, 369, 370, 371, 372, 373, 374, 375,\n",
      "       376, 377, 378, 379, 380, 381, 382, 383, 384, 385, 386, 387, 388,\n",
      "       389, 390, 391, 392, 393, 394, 395, 396, 397, 398, 399, 400, 401,\n",
      "       402, 403, 404, 405, 406, 407, 408, 409, 410, 411, 412, 413, 414,\n",
      "       415, 416, 417, 418, 419, 420, 421, 422, 423, 424, 425, 426, 427,\n",
      "       428, 429, 430, 431, 432, 433, 434, 435, 436, 437, 438, 439, 440,\n",
      "       441, 442, 443, 444, 445, 446, 447, 448, 449, 450, 451, 452, 453,\n",
      "       454, 455, 456, 457, 458, 459, 460, 461, 462, 463, 464, 465, 466,\n",
      "       467, 468, 469, 470, 471, 472, 473], dtype=int32)}}\n"
     ]
    }
   ],
   "source": [
    "hg_2.save_precalculated('dili_partitions.gz')\n",
    "\n",
    "hg_3 = HestiaGenerator(df)\n",
    "hg_3.from_precalculated('dili_partitions.gz')"
   ]
  }
 ],
 "metadata": {
  "kernelspec": {
   "display_name": "hestia",
   "language": "python",
   "name": "python3"
  },
  "language_info": {
   "codemirror_mode": {
    "name": "ipython",
    "version": 3
   },
   "file_extension": ".py",
   "mimetype": "text/x-python",
   "name": "python",
   "nbconvert_exporter": "python",
   "pygments_lexer": "ipython3",
   "version": "3.11.8"
  }
 },
 "nbformat": 4,
 "nbformat_minor": 2
}
